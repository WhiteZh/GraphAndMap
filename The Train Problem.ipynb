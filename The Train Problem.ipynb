{
 "cells": [
  {
   "cell_type": "markdown",
   "metadata": {},
   "source": [
    "## Problem Description"
   ]
  },
  {
   "cell_type": "markdown",
   "metadata": {},
   "source": [
    "### Mathematical Language\n",
    "- Let graph $ G $ be a connected graph, where set $ V_G $ contains all the vertices within graph $ G $ and set $ E_G $ contains all the edges within graph $ G $.\n",
    "- Let set $ V_S $ be a set of vertices, where $ V_S $ is a subset of set $ V_G $.\n",
    "- Let path $ S $ be a subgraph of graph $ G $ which connects every vertex within set $ V_S $.\n",
    "\n",
    "<br>\n",
    "\n",
    "- Given graph $ G $, set $ V_S $, and the root of path $ S $, which belongs to set $ V_S $, does path $ S $ exist?\n",
    "- If path $ S $ does exist, what is its smallest form like?"
   ]
  },
  {
   "cell_type": "markdown",
   "metadata": {},
   "source": [
    "### English Scenario\n",
    "- In a network consisted by cities, there locates a train center in one city, and several other train stations in other cities.\n",
    "- We want to design a railway which starts from the train center and connects every other stations.\n",
    "- The railway does not need to connect back to the center since trains go both ways on the rail.\n",
    "- The railway cannot be built out of no where, it can only land on the roads that already exist.\n",
    "- If a road already has railway on it, it cannot support another construction of railway, that is, if the railway used this road e to visit city A, it cannot come back from the city from road e again.\n",
    "- Design the shortest railway possible, or is it possible?"
   ]
  },
  {
   "cell_type": "markdown",
   "metadata": {},
   "source": [
    "## Representation Preparation"
   ]
  },
  {
   "cell_type": "code",
   "execution_count": 1,
   "metadata": {
    "ExecuteTime": {
     "end_time": "2023-07-16T05:12:15.886259Z",
     "start_time": "2023-07-16T05:12:14.576798Z"
    }
   },
   "outputs": [],
   "source": [
    "# include required libraries\n",
    "import numpy as np\n",
    "import matplotlib.pyplot as plt\n",
    "import networkx as nx\n",
    "import random\n",
    "import math"
   ]
  },
  {
   "cell_type": "code",
   "execution_count": 2,
   "metadata": {
    "ExecuteTime": {
     "end_time": "2023-07-16T05:12:23.062389Z",
     "start_time": "2023-07-16T05:12:23.048725Z"
    }
   },
   "outputs": [],
   "source": [
    "# define beautiful graph representation function\n",
    "def show_graph_beautiful(G, size: int = 20):\n",
    "    # position is stored as node attribute data for random_geometric_graph\n",
    "    pos = nx.get_node_attributes(G, \"pos\")\n",
    "\n",
    "    # find node near center (0.5,0.5)\n",
    "    dmin = 1\n",
    "    ncenter = 0\n",
    "    for n in pos:\n",
    "        x, y = pos[n]\n",
    "        d = (x - 0.5) ** 2 + (y - 0.5) ** 2\n",
    "        if d < dmin:\n",
    "            ncenter = n\n",
    "            dmin = d\n",
    "\n",
    "    # color by path length from node near center\n",
    "    p = dict(nx.single_source_shortest_path_length(G, ncenter))\n",
    "\n",
    "    plt.figure(figsize=(size, size))\n",
    "    nx.draw_networkx_edges(G, pos, edge_color=(.65, .65, .65, .4))\n",
    "    nx.draw_networkx_nodes(\n",
    "        G,\n",
    "        pos,\n",
    "        nodelist=list(p.keys()),\n",
    "        node_size=80,\n",
    "        node_color=list(p.values()),\n",
    "        vmax=max(p.values())+1,\n",
    "        cmap=plt.cm.Greys_r,\n",
    "    )\n",
    "\n",
    "    plt.xlim(-0.05, 1.05)\n",
    "    plt.ylim(-0.05, 1.05)\n",
    "    plt.axis(\"off\")\n",
    "    plt.show()"
   ]
  },
  {
   "cell_type": "code",
   "execution_count": 3,
   "metadata": {
    "ExecuteTime": {
     "end_time": "2023-07-16T05:12:26.242705Z",
     "start_time": "2023-07-16T05:12:26.239429Z"
    }
   },
   "outputs": [],
   "source": [
    "# define graph representation function\n",
    "def show_graph(G: nx.Graph, with_weight = False, with_name = False, size: int = 20,\n",
    "               highlight_nodes: list[tuple[list[int], tuple[float, float, float, float]]] = None,\n",
    "               highlight_edges: list[tuple[list[tuple[int, int]], tuple[float, float, float, float]]] = None):\n",
    "    highlight_nodes = highlight_nodes or {}\n",
    "    highlight_edges = highlight_edges or {}\n",
    "\n",
    "    pos = nx.get_node_attributes(G, \"pos\")\n",
    "    plt.figure(figsize=(size, size))\n",
    "    edge_color = []\n",
    "    for each in G.edges:\n",
    "        b = len(edge_color)\n",
    "        for key, value in highlight_edges:\n",
    "            if each in key or (each[1], each[0]) in key:\n",
    "                edge_color.append(value)\n",
    "                break\n",
    "        if b == len(edge_color):\n",
    "            edge_color.append((.8, .8, .8, .6))\n",
    "    nx.draw_networkx_edges(G,\n",
    "                           pos,\n",
    "                           edge_color=edge_color\n",
    "    )\n",
    "    if with_weight:\n",
    "        nx.draw_networkx_edge_labels(\n",
    "            G,\n",
    "            pos,\n",
    "            edge_labels=nx.get_edge_attributes(G, 'weight'),\n",
    "            font_size= 4\n",
    "        )\n",
    "    node_color = []\n",
    "    for each in G.nodes:\n",
    "        b = len(node_color)\n",
    "        for key, value in highlight_nodes:\n",
    "            if each in key:\n",
    "                node_color.append(value)\n",
    "                break\n",
    "        if b == len(node_color):\n",
    "            node_color.append((.75, .75, .75, 1))\n",
    "    nx.draw_networkx_nodes(\n",
    "        G,\n",
    "        pos,\n",
    "        node_size=50,\n",
    "        node_color=node_color\n",
    "    )\n",
    "    if with_name:\n",
    "        nx.draw_networkx_labels(\n",
    "            G,\n",
    "            pos=pos,\n",
    "            labels={i: str(i) for i in G.nodes},\n",
    "            font_size= 5\n",
    "        )\n",
    "\n",
    "    plt.xlim(-0.05, 1.05)\n",
    "    plt.ylim(-0.05, 1.05)\n",
    "    plt.axis(\"off\")\n",
    "    plt.show()"
   ]
  },
  {
   "cell_type": "markdown",
   "metadata": {},
   "source": [
    "## Maps Collection"
   ]
  },
  {
   "cell_type": "markdown",
   "metadata": {},
   "source": []
  },
  {
   "cell_type": "code",
   "execution_count": 41,
   "metadata": {
    "ExecuteTime": {
     "end_time": "2023-07-16T15:06:05.989436Z",
     "start_time": "2023-07-16T15:06:05.970467Z"
    }
   },
   "outputs": [],
   "source": [
    "G_three_islands = nx.random_geometric_graph(200, 0.125, seed=896803)\n",
    "V_S_three_islands = [55, 185, 81, 82, 178, 112, 68, 29, 190, 0, 35]\n",
    "\n",
    "G_small_harbour = nx.random_geometric_graph(15, 0.318, seed=42)\n",
    "\n",
    "G_Judy = nx.random_geometric_graph(822, 0.065, seed=20070129)\n",
    "V_S_Judy = [642, 129, 318, 43, 103, 434, 129, 638, 795, 249, 433, 745, 440, 316]\n",
    "\n",
    "G_two_islands = nx.random_geometric_graph(42, 0.22, seed=42)\n",
    "\n",
    "G_island = nx.Graph()\n",
    "G_island.add_node(0, pos=(.05, .75))\n",
    "G_island.add_node(1, pos=(.15, .65))\n",
    "G_island.add_node(2, pos=(.3, .6))\n",
    "G_island.add_node(3, pos=(.75, .6))\n",
    "G_island.add_node(4, pos=(.9, .6))\n",
    "G_island.add_node(5, pos=(.75, .75))\n",
    "G_island.add_node(6, pos=(.5, .3))\n",
    "G_island.add_node(7, pos=(.75, .3))\n",
    "G_island.add_edges_from([(0,1),(1,2),(2,3),(2,6),(3,4),(3,5),(4,7),(6,7)])\n",
    "V_S_island = [1, 4, 5]"
   ]
  },
  {
   "cell_type": "markdown",
   "metadata": {},
   "source": [
    "## Objects Generation"
   ]
  },
  {
   "cell_type": "code",
   "execution_count": 5,
   "metadata": {
    "ExecuteTime": {
     "end_time": "2023-07-16T05:12:30.598622Z",
     "start_time": "2023-07-16T05:12:30.587574Z"
    }
   },
   "outputs": [],
   "source": [
    "# define the overall random seed\n",
    "random_seed = 20070129"
   ]
  },
  {
   "cell_type": "code",
   "execution_count": 39,
   "metadata": {
    "ExecuteTime": {
     "end_time": "2023-07-16T15:05:43.276107Z",
     "start_time": "2023-07-16T15:05:43.260340Z"
    }
   },
   "outputs": [],
   "source": [
    "# create graph G\n",
    "# Use seed when creating the graph for reproducibility\n",
    "random.seed(random_seed)\n",
    "G: nx.Graph = G_island#nx.random_geometric_graph(50, 0.2, seed=random_seed)\n",
    "\n",
    "# Assign weights based on Euclidean distance between vertices\n",
    "for u, v in G.edges():\n",
    "    x1, y1 = G.nodes[u]['pos']\n",
    "    x2, y2 = G.nodes[v]['pos']\n",
    "    weight = ((x1 - x2) ** 2 + (y1 - y2) ** 2) ** 0.5\n",
    "    G.edges[u, v]['weight'] = weight\n",
    "del u, v, weight, x1, y1, x2, y2"
   ]
  },
  {
   "cell_type": "code",
   "execution_count": 40,
   "metadata": {
    "ExecuteTime": {
     "end_time": "2023-07-16T15:05:45.491086Z",
     "start_time": "2023-07-16T15:05:45.354964Z"
    }
   },
   "outputs": [
    {
     "data": {
      "text/plain": "<Figure size 1000x1000 with 1 Axes>",
      "image/png": "[encoded data removed]"
     },
     "metadata": {},
     "output_type": "display_data"
    }
   ],
   "source": [
    "# check the graph\n",
    "show_graph_beautiful(G, size=10)"
   ]
  },
  {
   "cell_type": "code",
   "execution_count": 42,
   "metadata": {
    "ExecuteTime": {
     "end_time": "2023-07-16T15:06:08.656842Z",
     "start_time": "2023-07-16T15:06:08.653026Z"
    }
   },
   "outputs": [
    {
     "name": "stdout",
     "output_type": "stream",
     "text": [
      "[0, 1, 2, 3, 4, 5, 6, 7]\n"
     ]
    }
   ],
   "source": [
    "# create set V_G\n",
    "V_G: list[int] = list(G.nodes())\n",
    "# check V_G\n",
    "print(V_G)"
   ]
  },
  {
   "cell_type": "code",
   "execution_count": 43,
   "metadata": {
    "ExecuteTime": {
     "end_time": "2023-07-16T15:06:13.983731Z",
     "start_time": "2023-07-16T15:06:13.977268Z"
    }
   },
   "outputs": [
    {
     "name": "stdout",
     "output_type": "stream",
     "text": [
      "[1, 4, 5]\n"
     ]
    }
   ],
   "source": [
    "# create set V_S\n",
    "random.seed(random_seed)\n",
    "n_V_S = random.randrange(3, 7)\n",
    "random.seed(random_seed)\n",
    "V_S: list[int] = V_S_island#[24, 21, 22, 13, 10]#random.sample(k=n_V_S, population=range(0, G.number_of_nodes()))\n",
    "# check V_S\n",
    "print(V_S)"
   ]
  },
  {
   "cell_type": "code",
   "execution_count": 44,
   "metadata": {
    "ExecuteTime": {
     "end_time": "2023-07-16T15:06:17.038527Z",
     "start_time": "2023-07-16T15:06:16.778908Z"
    }
   },
   "outputs": [
    {
     "data": {
      "text/plain": "<Figure size 1000x1000 with 1 Axes>",
      "image/png": "[encoded data removed]"
     },
     "metadata": {},
     "output_type": "display_data"
    },
    {
     "data": {
      "text/plain": "<Figure size 1000x1000 with 1 Axes>",
      "image/png": "[encoded data removed]"
     },
     "metadata": {},
     "output_type": "display_data"
    }
   ],
   "source": [
    "# check the graph again with additional information\n",
    "show_graph(G, size=10, with_name=False, with_weight=False, highlight_nodes=[([V_S[0]], (.5, .11, .11, 1)), (V_S[1:], (.11, .11, .11, 1))])\n",
    "show_graph(G, size=10, with_name=True, with_weight=False)\n",
    "# show_graph(G, size=12, with_name=True, with_weight=True, highlight_nodes=V_S)"
   ]
  },
  {
   "cell_type": "markdown",
   "metadata": {},
   "source": [
    "## Solution Helpers"
   ]
  },
  {
   "cell_type": "code",
   "execution_count": 45,
   "metadata": {
    "ExecuteTime": {
     "end_time": "2023-07-16T15:06:31.693052Z",
     "start_time": "2023-07-16T15:06:31.679693Z"
    }
   },
   "outputs": [],
   "source": [
    "# define class Path\n",
    "class Path:\n",
    "    def __init__(self, nodes: list[int], weight: float, attributes: dict = None):\n",
    "        if len(nodes) == 0:\n",
    "            raise ValueError('nodes should contain at least one node')\n",
    "        self.nodes = nodes\n",
    "        self.weight = weight\n",
    "        self.attributes = attributes or {}\n",
    "\n",
    "    @property\n",
    "    def edges(self) -> list[tuple[int]]:\n",
    "        ret = []\n",
    "        l = self.nodes[0]\n",
    "        for each in self.nodes[1:]:\n",
    "            ret.append((l, each))\n",
    "            l = each\n",
    "        return ret\n",
    "\n",
    "    @property\n",
    "    def head(self):\n",
    "        return self.nodes[-1]\n",
    "\n",
    "    @property\n",
    "    def root(self):\n",
    "        return self.nodes[0]\n",
    "\n",
    "    def __lt__(self, other: 'Path'):\n",
    "        return self.weight < other.weight\n",
    "\n",
    "    def __gt__(self, other: 'Path'):\n",
    "        return self.weight > other.weight\n",
    "\n",
    "    def __eq__(self, other: 'Path'):\n",
    "        return self.weight == other.weight\n",
    "\n",
    "    def __add__(self, other):\n",
    "        node = other[0]\n",
    "        weight = other[1]['weight']\n",
    "        ret = Path(self.nodes + [node], self.weight + weight, self.attributes.copy())\n",
    "        return ret\n",
    "\n",
    "    def __str__(self):\n",
    "        str_node = 'nodes: ' + str(self.nodes)\n",
    "        str_weight = 'weight: ' + str(self.weight)\n",
    "        return str_node + '\\n' + str_weight\n",
    "\n",
    "    def __getitem__(self, item):\n",
    "        return self.attributes[item]\n",
    "\n",
    "    def __setitem__(self, key, value):\n",
    "        self.attributes[key] = value\n",
    "\n",
    "    def reverse(self):\n",
    "        self.nodes = self.nodes.reverse()"
   ]
  },
  {
   "cell_type": "markdown",
   "metadata": {},
   "source": [
    "## General Concept\n",
    "1. Starts with a set of paths that are created by connect the starting point to each vertex that it’s connecting with.\n",
    "2. Choose the shortest path within the set.\n",
    "3. Create a list of paths by extending the shortest path with each of its head’s connecting vertex that hasn’t connected with it yet.\n",
    "4. For any path within the list, if the path satisfy the condition, we see it as the candidate path unless there already exists a candidate path, which then we keep the shorter one as the candidate path.\n",
    "5. For the rest of the paths within the list, we append them to the set.\n",
    "6. Repeat from step 2 until the set is empty.\n",
    "7. If there exists a candidate path, that is the shortest path, otherwise, the graph is unsolvable.\n"
   ]
  },
  {
   "cell_type": "markdown",
   "metadata": {},
   "source": [
    "## Solution\n",
    "# THE CONCEPT OF $ Dict_{V_{dominated}} $ IS WRONG!\n",
    "# REASON SEE TEST CASE G_ISLAND!"
   ]
  },
  {
   "cell_type": "markdown",
   "metadata": {},
   "source": [
    "### Text Explanation\n",
    "- Let set $ P_{tries} $ be a set of paths we can try to extend,\n",
    "    - It initially contains a path that is consisted by only one vertex, the starting point.\n",
    "- Let dictionary $ Dict_{V_{dominated}} $ be a dictionary which records for every vertex of the known minimum distance from the vertex to the starting point regarding the $ V_S $ vertices each path has visited.\n",
    "- Let path $ P_{candidate} $ be the known path with minimum weight which has visited every vertex within set $ V_S $,\n",
    "    - It initially has the value of None.\n",
    "- Until $ P_{tries} $ is empty, we repeat:\n",
    "    - Select the shortest path $ P_{shortest} $ within $ P_{tries} $ out of $ P_{tries} $.\n",
    "    - If $ P_{candidate} $ is not None and its weight is smaller than $ P_{shortest} $, then:\n",
    "        - Break the repetition.\n",
    "    - Otherwise:\n",
    "        - for each extended path $ P_{extended} $ derived from the selected path, we do:\n",
    "            - Look up dictionary $ Dict_{V_{dominated}} $.\n",
    "            - If the head of the extended path has already been visited before by a path $ P_{preexist} $ that has visited every vertex in $ V_S $ that $ P_{extended} $ has and $ P_{preexist} $ has a smaller weight, we abandon $ P_{extended} $.\n",
    "            - Otherwise, we update $ Dict_{V_{dominated}} $ with information from $ P_{extended} $.\n",
    "            - If $ P_{extended} $ has visited every vertex within $ V_S $ and either $ P_{extended} $ has a smaller weight than $ P_{candidate} $ or $ P_{candidate} $ is None, then:\n",
    "                - Let $ P_{candidate} $ be $ P_{extended} $.\n",
    "            - Otherwise, if $ P_{extended} $ has not yet visited every vertex within $ V_S $, then:\n",
    "            - Append $ P_{extended} $ to $ P_{tries} $.\n",
    "- If $ P_{candidate} $ is not None, then $ P_{candidate} $ is the answer.\n",
    "- Otherwise, there is no solution."
   ]
  },
  {
   "cell_type": "markdown",
   "metadata": {},
   "source": [
    "### Coding Implementation"
   ]
  },
  {
   "cell_type": "code",
   "execution_count": 48,
   "metadata": {
    "ExecuteTime": {
     "end_time": "2023-07-16T15:06:40.741351Z",
     "start_time": "2023-07-16T15:06:40.722178Z"
    }
   },
   "outputs": [],
   "source": [
    "# a set of the paths we can try to extend\n",
    "# it initially contains a path who has only visited the starting point\n",
    "tries: list[Path] = [Path(nodes=[V_S[0]], weight=0, attributes={'achieved': {V_S[0]}})]\n",
    "# a dictionary records for every vertex of the known minimum distance from the vertex to the starting point regarding the $ V_S $ vertices each path has visited\n",
    "V_Dominated: dict[int, dict[tuple[int], float]] = {V_S[0]: {tuple(sorted([V_S[0]])): 0}}\n",
    "# the known path with minimum weight which has visited every vertex within set $ V_S $\n",
    "candidate: Path or None = None\n",
    "\n",
    "# we keep doing below until there are no more path we can try to extend\n",
    "while len(tries):\n",
    "    # select the shortest path we can extend within set $ tries $\n",
    "    selected_try = tries[0]\n",
    "    for each_try in tries:\n",
    "        if each_try < selected_try:\n",
    "            selected_try = each_try\n",
    "\n",
    "    # remove the selected path from set $ tries $ since we are already trying to extend it\n",
    "    tries.remove(selected_try)\n",
    "\n",
    "    # if the weight of the candidate path is already smaller than the selected path, there is no way any extended path derived from the selected path can have a smaller weight than candidate, thus, we can already give up this try\n",
    "    # otherwise, we do the following\n",
    "    if candidate is None or candidate > selected_try:\n",
    "        # for each extended path derived from the selected path, we do below\n",
    "        for each in G[selected_try.head].items():\n",
    "            # abandon cases where the selected path extends to one of its visited vertices\n",
    "            if each[0] in selected_try.nodes:\n",
    "                continue\n",
    "\n",
    "            # `this` represents the derived path\n",
    "            this: Path = selected_try + each\n",
    "            this['achieved'] = this['achieved'].copy()\n",
    "            if each[0] in V_S:\n",
    "                this['achieved'].add(each[0])\n",
    "\n",
    "            # we look up the dictionary $ V_Dominated $\n",
    "            # if the head of the extended path has already been visited before\n",
    "            if each[0] in V_Dominated:\n",
    "                validation = [V_Dominated[each[0]][ae] for ae in V_Dominated[each[0]] if this['achieved'].issubset(set(ae))]\n",
    "                # if there already exists a path which has visited every vertex within set $ V_S $ that this extended path has visited, we can abandon this extended path\n",
    "                if len(validation) and this.weight >= min(validation):\n",
    "                    continue\n",
    "                # otherwise, we update the dictionary with the related information from the extended path\n",
    "                else:\n",
    "                    V_Dominated[each[0]][tuple(sorted(this['achieved']))] = this.weight\n",
    "            # otherwise we add the related information to the dictionary\n",
    "            else:\n",
    "                V_Dominated[each[0]]: dict[tuple[int], float] = {tuple(sorted(this['achieved'])): this.weight}\n",
    "\n",
    "            # if the extended path has visited every vertex within set $ V_S $\n",
    "            if len(this['achieved']) == len(V_S):\n",
    "                # if there's no a candidate yet or the weight of the extended path is smaller, we mark the extended path as the candidate\n",
    "                if candidate is None or candidate > this:\n",
    "                    candidate = this\n",
    "            # otherwise we append the extended path to the set of paths we can try to extend\n",
    "            else:\n",
    "                tries.append(this)\n",
    "    else:\n",
    "        break"
   ]
  },
  {
   "cell_type": "markdown",
   "source": [
    "### Call C++ Program"
   ],
   "metadata": {
    "collapsed": false
   }
  },
  {
   "cell_type": "code",
   "execution_count": 62,
   "outputs": [],
   "source": [
    "fin = open('pure_code/cpp/out/input.txt', 'w')\n",
    "def append(content):\n",
    "    fin.write(str(content) + '\\n')\n",
    "n = len(G.nodes)\n",
    "append(n)\n",
    "for id in G.nodes:\n",
    "    append(id)\n",
    "    m = len(G[id])\n",
    "    append(m)\n",
    "    for j, k in G[id].items():\n",
    "        append(j)\n",
    "        append(k['weight'])\n",
    "n = len(V_S)\n",
    "append(n)\n",
    "for id in V_S:\n",
    "    append(id)\n",
    "\n",
    "fin.close()\n",
    "\n",
    "from os import system\n",
    "system('pure_code/cpp/out/solution pure_code/cpp/out/')\n",
    "\n",
    "fout = open('pure_code/cpp/out/output.txt', 'r')\n",
    "length = fout.readline()[:-1]\n",
    "if length == 'None':\n",
    "    candidate = None\n",
    "else:\n",
    "    nodes: list[int] = []\n",
    "    for _ in range(int(length)):\n",
    "        nodes.append(int(fout.readline()[:-1]))\n",
    "    weight: float = float(fout.readline()[:-1])\n",
    "    candidate = Path(nodes=nodes, weight=weight)"
   ],
   "metadata": {
    "collapsed": false,
    "ExecuteTime": {
     "end_time": "2023-07-16T15:26:23.528447Z",
     "start_time": "2023-07-16T15:26:23.329343Z"
    }
   }
  },
  {
   "cell_type": "markdown",
   "source": [
    "## Present Result"
   ],
   "metadata": {
    "collapsed": false
   }
  },
  {
   "cell_type": "code",
   "execution_count": 63,
   "metadata": {
    "ExecuteTime": {
     "end_time": "2023-07-16T15:26:26.348169Z",
     "start_time": "2023-07-16T15:26:26.342672Z"
    }
   },
   "outputs": [
    {
     "name": "stdout",
     "output_type": "stream",
     "text": [
      "nodes: [1, 2, 6, 7, 4, 3, 5]\n",
      "weight: 1.40408\n"
     ]
    }
   ],
   "source": [
    "print(candidate)"
   ]
  },
  {
   "cell_type": "code",
   "execution_count": 64,
   "metadata": {
    "ExecuteTime": {
     "end_time": "2023-07-16T15:26:28.820955Z",
     "start_time": "2023-07-16T15:26:28.352883Z"
    }
   },
   "outputs": [
    {
     "data": {
      "text/plain": "<Figure size 2000x2000 with 1 Axes>",
      "image/png": "[encoded data removed]"
     },
     "metadata": {},
     "output_type": "display_data"
    }
   ],
   "source": [
    "show_graph(G, size=20, with_name=True,\n",
    "           highlight_nodes=[([V_S[0]], (.5, .11, .11, 1)), (V_S[1:], (.11, .11, .11, 1))],\n",
    "           highlight_edges=[(candidate.edges, (.25, .25, .25, .6))])"
   ]
  }
 ],
 "metadata": {
  "kernelspec": {
   "display_name": "Python 3 (ipykernel)",
   "language": "python",
   "name": "python3"
  },
  "language_info": {
   "codemirror_mode": {
    "name": "ipython",
    "version": 3
   },
   "file_extension": ".py",
   "mimetype": "text/x-python",
   "name": "python",
   "nbconvert_exporter": "python",
   "pygments_lexer": "ipython3",
   "version": "3.11.3"
  }
 },
 "nbformat": 4,
 "nbformat_minor": 1
}
